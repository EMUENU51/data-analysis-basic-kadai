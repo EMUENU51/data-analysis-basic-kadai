{
  "nbformat": 4,
  "nbformat_minor": 0,
  "metadata": {
    "colab": {
      "provenance": []
    },
    "kernelspec": {
      "name": "python3",
      "display_name": "Python 3"
    },
    "language_info": {
      "name": "python"
    }
  },
  "cells": [
    {
      "cell_type": "code",
      "execution_count": 35,
      "metadata": {
        "colab": {
          "base_uri": "https://localhost:8080/"
        },
        "id": "puq3ozWadULd",
        "outputId": "8c37c7b8-9570-48a1-e6f7-764af10650bb"
      },
      "outputs": [
        {
          "output_type": "stream",
          "name": "stdout",
          "text": [
            "[[ 4  5  6  7]\n",
            " [12 17 22 27]\n",
            " [20 29 38 47]]\n",
            "Aの要素の最大値: 5\n",
            "Bの要素の最大値: 7\n"
          ]
        }
      ],
      "source": [
        "import numpy as np\n",
        "\n",
        "A = np.array ([[0, 1],\n",
        "               [2, 3],\n",
        "               [4, 5]])\n",
        "\n",
        "B = np.array ([[0, 1, 2, 3],\n",
        "               [4, 5, 6, 7]])\n",
        "\n",
        "np.dot(A, B)\n",
        "print(np.dot(A, B))\n",
        "\n",
        "np.max(A)\n",
        "print(\"Aの要素の最大値:\", np.max(A))\n",
        "\n",
        "np.max(B)\n",
        "print(\"Bの要素の最大値:\", np.max(B))\n"
      ]
    }
  ]
}